{
 "cells": [
  {
   "cell_type": "code",
   "execution_count": 34,
   "metadata": {},
   "outputs": [
    {
     "name": "stdout",
     "output_type": "stream",
     "text": [
      "Supported signs:+, -, /, *\n",
      "use 'end' OR to exit\n"
     ]
    }
   ],
   "source": [
    "print(\"\"\"Supported signs:+, -, /, *\n",
    "use 'end' OR to exit\"\"\")\n",
    "try:\n",
    "    str = ''\n",
    "    while str != 'end'.upper() and str != 'end'.capitalize():\n",
    "        str = input('calculate: ')\n",
    "        if '+' in str:\n",
    "            out_put = str.split('+')\n",
    "            print(f\"Ans: {int(out_put[0]) + int(out_put[1])}\")\n",
    "        elif '-' in str:\n",
    "            out_put = str.split('-')\n",
    "            print(f\"Ans: {int(out_put[0]) - int(out_put[1])}\")\n",
    "        elif '*' in str:\n",
    "            out_put = str.split('*')\n",
    "            print(f\"Ans: {int(out_put[0]) * int(out_put[1])}\")\n",
    "        elif '/' in str:\n",
    "            out_put = str.split('/')\n",
    "            print(f\"Ans: {int(out_put[0]) / int(out_put[1])}\")\n",
    "        elif 'end' in str:\n",
    "            break\n",
    "        else:\n",
    "            print(f\"Ans: 0\")\n",
    "except (ValueError) as e:\n",
    "    print(f'Error: {e}')"
   ]
  }
 ],
 "metadata": {
  "kernelspec": {
   "display_name": "Python 3",
   "language": "python",
   "name": "python3"
  },
  "language_info": {
   "codemirror_mode": {
    "name": "ipython",
    "version": 3
   },
   "file_extension": ".py",
   "mimetype": "text/x-python",
   "name": "python",
   "nbconvert_exporter": "python",
   "pygments_lexer": "ipython3",
   "version": "3.11.0"
  },
  "orig_nbformat": 4,
  "vscode": {
   "interpreter": {
    "hash": "55d79064c9feea42e3a8cfbb2405178717b1dca6d0bc079cb76543bbdc9394ef"
   }
  }
 },
 "nbformat": 4,
 "nbformat_minor": 2
}
